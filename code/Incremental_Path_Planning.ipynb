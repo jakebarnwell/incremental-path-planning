{
 "cells": [
  {
   "cell_type": "markdown",
   "metadata": {},
   "source": [
    "# Advanced Lecture \\#1: Incremental Path Planning\n",
    "\n",
    "In this problem set...\n",
    "\n"
   ]
  },
  {
   "cell_type": "markdown",
   "metadata": {},
   "source": [
    "Import the modules needed for this problem set."
   ]
  },
  {
   "cell_type": "code",
   "execution_count": 1,
   "metadata": {
    "collapsed": false
   },
   "outputs": [],
   "source": [
    "%load_ext autoreload\n",
    "%autoreload 2\n",
    "%matplotlib inline\n",
    "#%pylab inline\n",
    "\n",
    "from __future__ import division\n",
    "import math\n",
    "import numpy as np\n",
    "import matplotlib.pyplot as plt"
   ]
  },
  {
   "cell_type": "markdown",
   "metadata": {},
   "source": [
    "Import the classes needed for this problem set."
   ]
  },
  {
   "cell_type": "code",
   "execution_count": 2,
   "metadata": {
    "collapsed": false
   },
   "outputs": [
    {
     "name": "stdout",
     "output_type": "stream",
     "text": [
      "IncrementalSearchProblem(start_node=3, goal_node=6, world={...})\n",
      "6\n",
      "IncrementalSearchProblem(start_node=55, goal_node=6, world={(1, 2): 3, (0, 0): 1})\n",
      "12\n",
      "IncrementalSearchProblem(start_node=55, goal_node=12, world={...})\n",
      "1\n"
     ]
    }
   ],
   "source": [
    "from grid import Grid\n",
    "from graph import Graph, Edge\n",
    "from search_classes import SearchNode, Path\n",
    "from utils import *\n",
    "from search_problem import *\n",
    "\n",
    "world = {(0,0): 1, (1,2): 3}\n",
    "isp = IncrementalSearchProblem(world, 3, 6)\n",
    "print(isp)\n",
    "print isp.goal_node\n",
    "isp.start_node = 55\n",
    "print repr(isp)\n",
    "isp.goal_node = 12\n",
    "print isp.goal_node\n",
    "print isp\n",
    "print isp.get_graph((0,0))"
   ]
  },
  {
   "cell_type": "code",
   "execution_count": 3,
   "metadata": {
    "collapsed": false
   },
   "outputs": [
    {
     "data": {
      "image/png": "[encoded data removed]",
      "text/plain": [
       "<matplotlib.figure.Figure at 0x7fc862868990>"
      ]
     },
     "metadata": {},
     "output_type": "display_data"
    }
   ],
   "source": [
    "# JSAnimation import available at https://github.com/jakevdp/JSAnimation\n",
    "# To install JSAnimation, DL the zip from the GitHub, then extract it and run sudo python setup.py install.\n",
    "#  make sure to restart kernel\n",
    "from JSAnimation import IPython_display\n",
    "from matplotlib import animation\n",
    "\n",
    "# create a simple animation\n",
    "fig = plt.figure()\n",
    "ax = plt.axes(xlim=(0, 10), ylim=(-2, 2))\n",
    "line, = ax.plot([], [], lw=2)\n",
    "\n",
    "x = np.linspace(0, 10, 1000)\n",
    "\n",
    "def init():\n",
    "    line.set_data([], [])\n",
    "    return line,\n",
    "\n",
    "def animate(i):\n",
    "    line.set_data(x, np.cos(i * 0.02 * np.pi) * np.sin(x - i * 0.02 * np.pi))\n",
    "    return line,\n",
    "\n",
    "#animation.FuncAnimation(fig, animate, init_func=init,\n",
    "#                        frames=100, interval=20, blit=True)"
   ]
  },
  {
   "cell_type": "code",
   "execution_count": 7,
   "metadata": {
    "collapsed": false
   },
   "outputs": [
    {
     "data": {
      "text/plain": [
       "<matplotlib.figure.Figure at 0x7fc861e75f90>"
      ]
     },
     "metadata": {},
     "output_type": "display_data"
    }
   ],
   "source": [
    "\"\"\"\n",
    "An animated image\n",
    "\"\"\"\n",
    "import numpy as np\n",
    "import matplotlib.pyplot as plt\n",
    "import matplotlib.animation as animation\n",
    "\n",
    "fig = plt.figure()\n",
    "\n",
    "\n",
    "def f(x, y):\n",
    "    return np.sin(x) + np.cos(y)\n",
    "\n",
    "x = np.linspace(0, 2 * np.pi, 120)\n",
    "y = np.linspace(0, 2 * np.pi, 100).reshape(-1, 1)\n",
    "\n",
    "#im = plt.imshow(f(x, y), cmap=plt.get_cmap('prism'), animated=True)\n",
    "\n",
    "\n",
    "def updatefig(*args):\n",
    "    global x, y\n",
    "    x += np.pi / 15.\n",
    "    y += np.pi / 20.\n",
    "    im.set_array(f(x, y))\n",
    "    return im,\n",
    "\n",
    "ani = animation.FuncAnimation(fig, updatefig, interval=50, blit=True)\n",
    "#plt.show()"
   ]
  },
  {
   "cell_type": "code",
   "execution_count": 5,
   "metadata": {
    "collapsed": false
   },
   "outputs": [
    {
     "data": {
      "image/png": "[encoded data removed]",
      "text/plain": [
       "<matplotlib.figure.Figure at 0x7fc862099250>"
      ]
     },
     "metadata": {},
     "output_type": "display_data"
    }
   ],
   "source": [
    "# Test drawing a grid using the Grid class that we copied from old psets\n",
    "grid = Grid()\n",
    "\n",
    "isp = IncrementalSearchProblem(world, 3, 6)\n",
    "isp.draw_state(grid)\n",
    "\n"
   ]
  },
  {
   "cell_type": "code",
   "execution_count": 6,
   "metadata": {
    "collapsed": false
   },
   "outputs": [
    {
     "name": "stdout",
     "output_type": "stream",
     "text": [
      "Num cols, num rows:  (6, 6)\n",
      "(2,1) is obstacle? True\n",
      "(0,0) is obstacle? False\n",
      "Cell dimensions:  (1.0, 1.0)\n"
     ]
    },
    {
     "data": {
      "image/png": "[encoded data removed]",
      "text/plain": [
       "<matplotlib.figure.Figure at 0x7fc861f0a050>"
      ]
     },
     "metadata": {},
     "output_type": "display_data"
    }
   ],
   "source": [
    "# Create grid from text.\n",
    "# 1: obstacle, 0: free region\n",
    "# Modify the text to create your own grid\n",
    "# Ensure that the number of columns is constant!\n",
    "grid_str = \"\"\"0 1 1 1 1 1\n",
    "              0 1 0 0 0 0\n",
    "              0 1 0 1 1 0\n",
    "              0 1 0 0 1 0\n",
    "              0 1 1 1 1 0\n",
    "              0 0 0 0 0 0\"\"\"\n",
    "test_grid = Grid.create_from_str(grid_str)\n",
    "\n",
    "# Access the grid elements\n",
    "print \"Num cols, num rows: \", test_grid.size\n",
    "print \"(2,1) is obstacle?\", test_grid.grid_array[2,1] > 0\n",
    "print \"(0,0) is obstacle?\", test_grid.grid_array[0,0] > 0\n",
    "print \"Cell dimensions: \", test_grid.cell_dimensions\n",
    "\n",
    "# Drawing functions\n",
    "# Draw the grid\n",
    "axes = test_grid.draw()\n",
    "# Draw a circle in cell (5,2) [col 5, row 2]\n",
    "test_grid.draw_cell_circle(axes, (5,2),color='black')\n",
    "# You can draw some paths, too\n",
    "test_grid.draw_path(axes, [(0,0), (1,0), (2,0)], color='blue')\n",
    "test_grid.draw_path(axes, [(2,4), (2,3), (2,2), (3,2)], color='magenta')"
   ]
  },
  {
   "cell_type": "code",
   "execution_count": null,
   "metadata": {
    "collapsed": true
   },
   "outputs": [],
   "source": []
  }
 ],
 "metadata": {
  "kernelspec": {
   "display_name": "Python 2",
   "language": "python",
   "name": "python2"
  },
  "language_info": {
   "codemirror_mode": {
    "name": "ipython",
    "version": 2
   },
   "file_extension": ".py",
   "mimetype": "text/x-python",
   "name": "python",
   "nbconvert_exporter": "python",
   "pygments_lexer": "ipython2",
   "version": "2.7.6"
  }
 },
 "nbformat": 4,
 "nbformat_minor": 0
}
