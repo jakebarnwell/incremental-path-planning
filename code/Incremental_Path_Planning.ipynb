{
 "cells": [
  {
   "cell_type": "markdown",
   "metadata": {},
   "source": [
    "# Advanced Lecture \\#1: Incremental Path Planning\n",
    "\n",
    "In this problem set...\n",
    "\n"
   ]
  },
  {
   "cell_type": "markdown",
   "metadata": {},
   "source": [
    "Import the modules needed for this problem set."
   ]
  },
  {
   "cell_type": "code",
   "execution_count": 1,
   "metadata": {
    "collapsed": false
   },
   "outputs": [],
   "source": [
    "%load_ext autoreload\n",
    "%autoreload 2\n",
    "%matplotlib inline\n",
    "#%pylab inline\n",
    "\n",
    "from __future__ import division\n",
    "import math\n",
    "import numpy as np\n",
    "import matplotlib.pyplot as plt\n",
    "from world import World"
   ]
  },
  {
   "cell_type": "markdown",
   "metadata": {},
   "source": [
    "Import the classes needed for this problem set."
   ]
  },
  {
   "cell_type": "code",
   "execution_count": 2,
   "metadata": {
    "collapsed": false
   },
   "outputs": [
    {
     "data": {
      "text/plain": [
       "<matplotlib.axes.AxesSubplot at 0x7f096a3ece90>"
      ]
     },
     "execution_count": 2,
     "metadata": {},
     "output_type": "execute_result"
    },
    {
     "data": {
      "image/png": "[encoded data removed]",
      "text/plain": [
       "<matplotlib.figure.Figure at 0x7f096a401610>"
      ]
     },
     "metadata": {},
     "output_type": "display_data"
    }
   ],
   "source": [
    "from grid import Grid\n",
    "# Test drawing a grid with lots of cool stuff...\n",
    "\n",
    "grid_str = \"\"\"R 0 0 0 S\n",
    "              0 1 1 1 0\n",
    "              0 1 1 1 1\n",
    "              0 1 0 1 G\n",
    "              0 0 0 0 0\"\"\"\n",
    "grid = Grid.create_from_str(grid_str)\n",
    "\n",
    "\n",
    "graph = grid.to_graph()\n",
    "\n",
    "#graph.draw()\n",
    "grid.draw()\n",
    "\n",
    "\n",
    "\n",
    "#isp = IncrementalSearchProblem(world, 3, 6)\n",
    "#isp.draw_state(grid)\n",
    "\n"
   ]
  },
  {
   "cell_type": "code",
   "execution_count": 3,
   "metadata": {
    "collapsed": false
   },
   "outputs": [
    {
     "name": "stdout",
     "output_type": "stream",
     "text": [
      "Num cols, num rows:  (6, 6)\n",
      "(2,1) is obstacle? True\n",
      "(0,0) is obstacle? False\n",
      "Cell size:  (1.0, 1.0)\n"
     ]
    }
   ],
   "source": [
    "# Create grid from text.\n",
    "# 1: obstacle, 0: free region\n",
    "# Modify the text to create your own grid\n",
    "# Ensure that the number of columns is constant!\n",
    "grid_str = \"\"\"0 1 1 1 1 1\n",
    "              0 1 0 0 0 0\n",
    "              0 1 0 1 1 0\n",
    "              0 1 0 0 1 0\n",
    "              0 1 1 1 1 0\n",
    "              0 0 0 0 0 0\"\"\"\n",
    "test_grid = Grid.create_from_str(grid_str)\n",
    "\n",
    "# Access the grid elements\n",
    "print \"Num cols, num rows: \", test_grid.size\n",
    "print \"(2,1) is obstacle?\", test_grid.grid_array[2,1] > 0\n",
    "print \"(0,0) is obstacle?\", test_grid.grid_array[0,0] > 0\n",
    "print \"Cell size: \", test_grid.cell_size\n",
    "\n",
    "# Drawing functions\n",
    "# Draw the grid\n",
    "# axes = test_grid.draw()\n",
    "# # Draw a circle in cell (5,2) [col 5, row 2]\n",
    "# test_grid.draw_cell_circle(axes, (5,2),color='black')\n",
    "# # You can draw some paths, too\n",
    "# test_grid.draw_path(axes, [(0,0), (1,0), (2,0)], color='blue')\n",
    "# test_grid.draw_path(axes, [(2,4), (2,3), (2,2), (3,2)], color='magenta')"
   ]
  },
  {
   "cell_type": "code",
   "execution_count": 4,
   "metadata": {
    "collapsed": false
   },
   "outputs": [],
   "source": [
    "# Test updating World...\n",
    "\n",
    "from grid import *\n",
    "\n",
    "grid_str = \"\"\"R 0 0 0 S\n",
    "              0 0 1 1 0\n",
    "              0 1 1 1 1\n",
    "              0 1 0 1 G\n",
    "              0 0 0 0 0\"\"\"\n",
    "_grid = Grid.create_from_str(grid_str)\n",
    "\n",
    "world = World(_grid, (0, 4), vision_radius=2)\n",
    "# world._grid_ground_truth.draw()\n",
    "# world.belief_grid.draw()\n",
    "\n",
    "new_graph = world.update_world((1,3))\n",
    "# world._grid_ground_truth.draw()\n",
    "# world.belief_grid.draw()\n",
    "\n",
    "new2_graph = world.update_world((0,2))\n",
    "# world._grid_ground_truth.draw()\n",
    "# world.belief_grid.draw()\n",
    "\n",
    "\n",
    "\n",
    "#grid = Grid(num_cols=100, num_rows=100)\n",
    "#world = World(grid, (50, 50), vision_radius=10)\n"
   ]
  },
  {
   "cell_type": "code",
   "execution_count": null,
   "metadata": {
    "collapsed": true
   },
   "outputs": [],
   "source": []
  }
 ],
 "metadata": {
  "kernelspec": {
   "display_name": "Python 2",
   "language": "python",
   "name": "python2"
  },
  "language_info": {
   "codemirror_mode": {
    "name": "ipython",
    "version": 2
   },
   "file_extension": ".py",
   "mimetype": "text/x-python",
   "name": "python",
   "nbconvert_exporter": "python",
   "pygments_lexer": "ipython2",
   "version": "2.7.6"
  }
 },
 "nbformat": 4,
 "nbformat_minor": 0
}
