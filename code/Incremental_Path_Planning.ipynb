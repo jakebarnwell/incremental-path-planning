{
 "cells": [
  {
   "cell_type": "markdown",
   "metadata": {},
   "source": [
    "# Advanced Lecture \\#1: Incremental Path Planning\n",
    "\n",
    "In this problem set...\n",
    "\n"
   ]
  },
  {
   "cell_type": "markdown",
   "metadata": {},
   "source": [
    "Import the modules needed for this problem set."
   ]
  },
  {
   "cell_type": "code",
   "execution_count": 3,
   "metadata": {
    "collapsed": false
   },
   "outputs": [
    {
     "name": "stdout",
     "output_type": "stream",
     "text": [
      "The autoreload extension is already loaded. To reload it, use:\n",
      "  %reload_ext autoreload\n"
     ]
    }
   ],
   "source": [
    "%load_ext autoreload\n",
    "%autoreload 2\n",
    "%matplotlib inline\n",
    "\n",
    "from __future__ import division\n",
    "import math\n",
    "import numpy as np\n",
    "import matplotlib.pyplot as plt"
   ]
  },
  {
   "cell_type": "markdown",
   "metadata": {},
   "source": [
    "Import the classes needed for this problem set."
   ]
  },
  {
   "cell_type": "code",
   "execution_count": 43,
   "metadata": {
    "collapsed": false
   },
   "outputs": [
    {
     "name": "stdout",
     "output_type": "stream",
     "text": [
      "IncrementalSearchProblem(start_node=3, goal_node=6, world={...})\n",
      "6\n",
      "IncrementalSearchProblem(start_node=55, goal_node=6, world={(1, 2): 3, (0, 0): 1})\n",
      "12\n",
      "IncrementalSearchProblem(start_node=55, goal_node=12, world={...})\n",
      "1\n"
     ]
    }
   ],
   "source": [
    "from grid import Grid\n",
    "from graph import Graph, Edge\n",
    "from search_classes import SearchNode, Path\n",
    "from utils import *\n",
    "from search_problem import *\n",
    "\n",
    "world = {(0,0): 1, (1,2): 3}\n",
    "isp = IncrementalSearchProblem(world, 3, 6)\n",
    "print(isp)\n",
    "print isp.goal_node\n",
    "isp.start_node = 55\n",
    "print repr(isp)\n",
    "isp.goal_node = 12\n",
    "print isp.goal_node\n",
    "print isp\n",
    "print isp.get_graph((0,0))"
   ]
  },
  {
   "cell_type": "code",
   "execution_count": null,
   "metadata": {
    "collapsed": true
   },
   "outputs": [],
   "source": []
  }
 ],
 "metadata": {
  "kernelspec": {
   "display_name": "Python 2",
   "language": "python",
   "name": "python2"
  },
  "language_info": {
   "codemirror_mode": {
    "name": "ipython",
    "version": 2
   },
   "file_extension": ".py",
   "mimetype": "text/x-python",
   "name": "python",
   "nbconvert_exporter": "python",
   "pygments_lexer": "ipython2",
   "version": "2.7.6"
  }
 },
 "nbformat": 4,
 "nbformat_minor": 0
}
