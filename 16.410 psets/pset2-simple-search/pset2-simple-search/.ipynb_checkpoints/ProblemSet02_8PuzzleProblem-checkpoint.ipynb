{
 "cells": [
  {
   "cell_type": "markdown",
   "metadata": {},
   "source": [
    "Import the modules needed for this exercise (make sure you execute the cell below by clicking on it and pressing Shift-Enter)"
   ]
  },
  {
   "cell_type": "code",
   "execution_count": 1,
   "metadata": {
    "collapsed": false
   },
   "outputs": [],
   "source": [
    "%load_ext autoreload\n",
    "%autoreload 2\n",
    "from utils import test_ok, check_expanded_states, check_expanded_nodes\n",
    "from search_classes import SearchNode, Path"
   ]
  },
  {
   "cell_type": "markdown",
   "metadata": {},
   "source": [
    "# Problem Set 2: Solving the 8 Puzzle Problem with Search\n",
    "\n",
    "\n",
    "1. [State representation in the 8 Puzzle Problem](#state_representation)\n",
    "    1. [Expanding the puzzle state (25 points)](#state_expansion)\n",
    "2. [Simple Search](#simple_search)\n",
    "    1. [Completing the `PuzzleProblem` class (10 points)](#puzzle_problem_class)\n",
    "    2. [Implementing Breath First Search (45 points)](#bfs_implementation)\n",
    "    3. [Breadth First Search vs Depth First Search (20 points)](#bfs_vs_dfs)\n"
   ]
  },
  {
   "cell_type": "markdown",
   "metadata": {},
   "source": [
    "In this Problem Set you will implement Breath First Search and use it to solve the [8 Puzzle Problem](https://en.wikipedia.org/wiki/15_puzzle).\n",
    "\n",
    "The puzzle consists on a 3x3 grid with 8 numbered tiles and a missing tile. The objective consists on sliding the tiles around until all the numbered tiles are ordered and the missing tile stays at the lower right cell of the grid.\n",
    "\n",
    "<img src=\"puzzle8.png\"/>\n",
    "\n",
    "\n"
   ]
  },
  {
   "cell_type": "markdown",
   "metadata": {},
   "source": [
    "## <a name=\"state_representation\"></a>State representation in the 8 Puzzle Problem\n",
    "\n",
    "To make things simple, we are giving you a possible state representation for the 8-puzzle problem.\n",
    "\n",
    "We'll represent a given state of the puzzle by a tuple of three internal tuples. Each internal tuple represents a row of the puzzle. The missing tile is represented by $0$.\n",
    "\n",
    "For example, the puzzle state below:\n",
    "\n",
    "<img src=\"example_state.png\"/>\n",
    "\n",
    "is represented by `((1, 2, 3), (8, 0, 4), (7, 6, 5))`.\n",
    "\n",
    "Below, we are giving you some code to print a puzzle state:"
   ]
  },
  {
   "cell_type": "code",
   "execution_count": 2,
   "metadata": {
    "collapsed": false,
    "deletable": false,
    "nbgrader": {
     "checksum": "074187e36218c7e0ed187f3bfc8964a3",
     "grade": false,
     "grade_id": "print_state_code",
     "locked": true,
     "solution": false
    }
   },
   "outputs": [
    {
     "name": "stdout",
     "output_type": "stream",
     "text": [
      "((1, 2, 3), (8, 0, 4), (7, 6, 5)) state represents puzzle state: \n",
      "+-----+\n",
      "|1 2 3|\n",
      "|8   4|\n",
      "|7 6 5|\n",
      "+-----+\n"
     ]
    }
   ],
   "source": [
    "# (this cell will be overwritten)\n",
    "def print_state(state):\n",
    "    print(\"+\"+ \"-\"*5+\"+\")\n",
    "    for l in state:\n",
    "        print(\"|\"+ \" \".join([str(el) if el!=0 else \" \" for el in l]) +\"|\")\n",
    "    print(\"+\"+ \"-\"*5+\"+\")\n",
    "\n",
    "example_state = ((1, 2, 3), (8, 0, 4), (7, 6, 5))\n",
    "\n",
    "print(\"%s state represents puzzle state: \" % (example_state,))\n",
    "print_state(example_state)"
   ]
  },
  {
   "cell_type": "markdown",
   "metadata": {},
   "source": [
    "### <a name=\"state_expansion\"></a>Expanding a puzzle state (25 points)\n",
    "\n",
    "In order to find a solution to the state, we need to define the states we can reach from a given state.\n",
    "\n",
    "This corresponds to the possible moves of the missing tile (at most up, down, left and right).\n",
    "\n",
    "Implement the function `expand_state(state)` that returns a `list` of the states that can be reached from the given `state`.\n",
    "\n",
    "For example, for state `((0, 1, 3), (4, 2, 5), (7, 8, 6))`, the function `expand_state` should return the following list (two moves are feasible):\n",
    "\n",
    "```\n",
    "[((4, 1, 3), (0, 2, 5), (7, 8, 6)), ((1, 0, 3), (4, 2, 5), (7, 8, 6))]\n",
    "```\n",
    "\n",
    "The neighbour states of state:\n",
    "\n",
    "```\n",
    "+-----+\n",
    "|  1 3|\n",
    "|4 2 5|\n",
    "|7 8 6|\n",
    "+-----+\n",
    "```\n",
    "\n",
    "are:\n",
    "\n",
    "```\n",
    "+-----+\n",
    "|4 1 3|\n",
    "|  2 5|\n",
    "|7 8 6|\n",
    "+-----+\n",
    "***\n",
    "+-----+\n",
    "|1   3|\n",
    "|4 2 5|\n",
    "|7 8 6|\n",
    "+-----+\n",
    "```\n",
    "\n",
    "<div class=\"alert alert-info\">\n",
    "Implement the function `expand_state(state)` below.\n",
    "</div>\n"
   ]
  },
  {
   "cell_type": "code",
   "execution_count": 5,
   "metadata": {
    "collapsed": false,
    "deletable": false,
    "nbgrader": {
     "checksum": "20eb1e40bfaca243936c13d8e732c9ec",
     "grade": false,
     "grade_id": "expand_state_code",
     "locked": false,
     "solution": true
    }
   },
   "outputs": [],
   "source": [
    "def expand_state(state):\n",
    "    # Unpack tuple into single row:\n",
    "    s = tuple(state[0] + state[1] + state[2])\n",
    "\n",
    "    # Find the row and column of the empty space:\n",
    "    row, col = divmod(s.index(0),3)\n",
    "\n",
    "    # Define boolean variables to indicate whether or not a given operation is valid,\n",
    "    # initially set each one to false:\n",
    "    up, down, left, right = False, False, False, False\n",
    "\n",
    "    # Use row to determine if up and/or down are valid:\n",
    "    if (row == 0):\n",
    "        down = True\n",
    "    elif (row == 1):\n",
    "        up, down = True, True\n",
    "    else:\n",
    "        up = True\n",
    "    \n",
    "    # Use col to determine if left and/or right are valid:\n",
    "    if (col == 0):\n",
    "        right = True\n",
    "    elif (col == 1):\n",
    "        left, right = True, True\n",
    "    else:\n",
    "        left = True\n",
    "    \n",
    "    # Execute each valid operation:\n",
    "    expansion = []\n",
    "    \n",
    "    if down:\n",
    "        s_t = list(s) # obtain a copy of the current state as a list\n",
    "        s_t[3*row + col] = state[row+1][col] # place the number below the empty space into the empty space\n",
    "        s_t[3*(row+1) + col] = 0 # move the empty space down one row\n",
    "        expansion.append( (tuple(s_t[:3]), tuple(s_t[3:6]), tuple(s_t[6:])) ) # repack into 3x3 tuple\n",
    "        \n",
    "    if up:\n",
    "        s_t = list(s) # obtain a copy of the current state as a list\n",
    "        s_t[3*row + col] = state[row-1][col] # place the number above the empty space into the empty space\n",
    "        s_t[3*(row-1) + col] = 0 # move the empty space up one row\n",
    "        expansion.append( (tuple(s_t[:3]), tuple(s_t[3:6]), tuple(s_t[6:])) ) # repack into 3x3 tuple\n",
    "\n",
    "    if right:\n",
    "        s_t = list(s) # obtain a copy of the current state as a list\n",
    "        s_t[3*row + col] = state[row][col+1] # place the number right of the empty space into the empty space\n",
    "        s_t[3*row + (col+1)] = 0 # move the empty space right one column\n",
    "        expansion.append( (tuple(s_t[:3]), tuple(s_t[3:6]), tuple(s_t[6:])) ) # repack into 3x3 tuple\n",
    "        \n",
    "    if left:\n",
    "        s_t = list(s) # obtain a copy of the current state as a list\n",
    "        s_t[3*row + col] = state[row][col-1] # place the number left of the empty space into the empty space\n",
    "        s_t[3*row + (col-1)] = 0 # move the empty space left one column\n",
    "        expansion.append( (tuple(s_t[:3]), tuple(s_t[3:6]), tuple(s_t[6:])) ) # repack into 3x3 tuple\n",
    "        \n",
    "    return expansion"
   ]
  },
  {
   "cell_type": "code",
   "execution_count": 6,
   "metadata": {
    "collapsed": false,
    "deletable": false,
    "nbgrader": {
     "checksum": "c8b8e807145c195c620e9099bf020308",
     "grade": true,
     "grade_id": "expand_state_test",
     "locked": true,
     "points": 25,
     "solution": false
    }
   },
   "outputs": [
    {
     "data": {
      "text/html": [
       "<div class=\"alert alert-success\">\n",
       "        <strong>Test passed!!</strong>\n",
       "        </div>"
      ]
     },
     "metadata": {},
     "output_type": "display_data"
    }
   ],
   "source": [
    "\"\"\"Check the expand state function\"\"\"\n",
    "from nose.tools import assert_equal, ok_\n",
    "\n",
    "check_expanded_states(expand_state(((0, 1, 3), (4, 2, 5), (7, 8, 6))),\n",
    "                     [((4, 1, 3), (0, 2, 5), (7, 8, 6)), ((1, 0, 3), (4, 2, 5), (7, 8, 6))])\n",
    "\n",
    "check_expanded_states(expand_state(((1, 2, 3), (8, 0, 4), (7, 6, 5))),\n",
    "                     [((1, 2, 3), (8, 6, 4), (7, 0, 5)),\n",
    "                     ((1, 0, 3), (8, 2, 4), (7, 6, 5)),\n",
    "                     ((1, 2, 3), (8, 4, 0), (7, 6, 5)),\n",
    "                     ((1, 2, 3), (0, 8, 4), (7, 6, 5))])\n",
    "test_ok()"
   ]
  },
  {
   "cell_type": "markdown",
   "metadata": {},
   "source": [
    "## <a name=\"simple_search\"></a>Simple Search"
   ]
  },
  {
   "cell_type": "markdown",
   "metadata": {},
   "source": [
    "Now you will implement Simple Search, as seen in class, to solve the 8 Puzzle Problem.\n",
    "\n",
    "We are giving you the class `SearchNode` defined in `search_classes.py`. This class represents a search node in the search tree.\n",
    "\n",
    "You can create a `SearchNode` by giving it the state it represents and its `SearchNode` parent (or None if it's the root element in the tree).\n",
    "\n",
    "**example**:"
   ]
  },
  {
   "cell_type": "code",
   "execution_count": 7,
   "metadata": {
    "collapsed": false
   },
   "outputs": [
    {
     "name": "stdout",
     "output_type": "stream",
     "text": [
      "Root node: <SearchNode: state: ((0, 1, 3), (4, 2, 5), (7, 8, 6)), parent: None>\n",
      "Children node: <SearchNode: state: ((4, 1, 3), (0, 2, 5), (7, 8, 6)), parent: <SearchNode: state: ((0, 1, 3), (4, 2, 5), (7, 8, 6)), parent: None>>\n"
     ]
    }
   ],
   "source": [
    "# Execute this example code\n",
    "root_node = SearchNode(((0, 1, 3), (4, 2, 5), (7, 8, 6)), parent_node=None)\n",
    "children_node = SearchNode(((4, 1, 3), (0, 2, 5), (7, 8, 6)),\n",
    "                            parent_node=root_node)\n",
    "print(\"Root node: %s\" % root_node)\n",
    "print(\"Children node: %s\" % children_node)"
   ]
  },
  {
   "cell_type": "markdown",
   "metadata": {},
   "source": [
    "We also give you the `Path` class, that takes a `SearchNode` and computes the state path from the initial state in the root of the tree to the state of the given `SearchNode`.\n",
    "\n",
    "**example:**"
   ]
  },
  {
   "cell_type": "code",
   "execution_count": 8,
   "metadata": {
    "collapsed": false
   },
   "outputs": [
    {
     "name": "stdout",
     "output_type": "stream",
     "text": [
      "Path of 2 states is: [((0, 1, 3), (4, 2, 5), (7, 8, 6)), ((4, 1, 3), (0, 2, 5), (7, 8, 6))]\n"
     ]
    }
   ],
   "source": [
    "# Execute this example code\n",
    "example_path = Path(children_node)\n",
    "print(\"Path of %d states is: %s\" % (len(example_path.path), example_path.path))"
   ]
  },
  {
   "cell_type": "markdown",
   "metadata": {},
   "source": [
    "<div class=\"alert alert-warning\">\n",
    "You will want to look at the `SearchNode` and `Path` definitions in the included **`search_classes.py`** file, as you will need to know what useful properties you can use for the next questions.\n",
    "</div>"
   ]
  },
  {
   "cell_type": "markdown",
   "metadata": {},
   "source": [
    "### <a name=\"puzzle_problem_class\"></a>Complete the PuzzleProblem class (10 points)\n",
    "\n",
    "We are giving you an incomplete definition of the `PuzzleProblem` class that will be the input to the search function.\n",
    "\n",
    "Your task here consists on completing the definition of the function `expand_node`, so that it returns a list of `SearchNodes` that result from expanding the `state` of the current `search_node`. Don't forget to set the new state and the parent node. You may want to use the function `expand_state` that you implemented earlier and what you learned about the `SearchNode` class before.\n",
    "\n",
    "<div class=\"alert alert-info\">\n",
    "Complete the definition of the `PuzzleProblem` class.\n",
    "</div>\n"
   ]
  },
  {
   "cell_type": "code",
   "execution_count": 9,
   "metadata": {
    "collapsed": false,
    "deletable": false,
    "nbgrader": {
     "checksum": "e6cf5ab58770cba215e257a8e5d11628",
     "grade": false,
     "grade_id": "puzzleproblem_code",
     "locked": false,
     "solution": true
    }
   },
   "outputs": [],
   "source": [
    "class PuzzleProblem(object):\n",
    "    \"\"\"Class that represents the puzzle search problem.\"\"\"\n",
    "    def __init__(self, start, goal):\n",
    "        self.start = start\n",
    "        self.goal = goal\n",
    "    def test_goal(self, state):\n",
    "        return self.goal == state\n",
    "    def expand_node(self, search_node):\n",
    "        \"\"\"Return a list of SearchNodes, having the correct state and parent node.\"\"\"\n",
    "        \n",
    "        # Expand state of search_node:\n",
    "        expansion = expand_state(search_node.state)\n",
    " \n",
    "        # Create new node for each of the expanded states and store in list:\n",
    "        expanded_sn = []\n",
    "        for s in expansion:\n",
    "            expanded_sn.append(SearchNode(s, search_node))\n",
    "            \n",
    "        return expanded_sn"
   ]
  },
  {
   "cell_type": "code",
   "execution_count": 10,
   "metadata": {
    "collapsed": false,
    "deletable": false,
    "nbgrader": {
     "checksum": "b1f97f378255de804d9b7d9e884751dc",
     "grade": true,
     "grade_id": "puzzleproblem_test",
     "locked": true,
     "points": 10,
     "solution": false
    }
   },
   "outputs": [
    {
     "data": {
      "text/html": [
       "<div class=\"alert alert-success\">\n",
       "        <strong>Test passed!!</strong>\n",
       "        </div>"
      ]
     },
     "metadata": {},
     "output_type": "display_data"
    }
   ],
   "source": [
    "\"\"\"Check the implementation of PuzzleProblem\"\"\"\n",
    "state_test = ((1, 2, 3), (8, 0, 4), (7, 6, 5))\n",
    "problem_test = PuzzleProblem(state_test, None)\n",
    "node_test = SearchNode(state_test, None)\n",
    "check_expanded_nodes(problem_test.expand_node(node_test),\n",
    "                     node_test,\n",
    "                     [((1, 2, 3), (8, 6, 4), (7, 0, 5)),\n",
    "                     ((1, 0, 3), (8, 2, 4), (7, 6, 5)),\n",
    "                     ((1, 2, 3), (8, 4, 0), (7, 6, 5)),\n",
    "                     ((1, 2, 3), (0, 8, 4), (7, 6, 5))])\n",
    "test_ok()"
   ]
  },
  {
   "cell_type": "markdown",
   "metadata": {},
   "source": [
    "### <a name=\"bfs_implementation\"></a>Implement Breadth First Search (45 points)\n",
    "\n",
    "Finally, you'll implement *Breath First Search*.\n",
    "\n",
    "Implement the function `breadth_first_search(search_problem)` that takes an instance of the `PuzzleProblem` class that we defined above and returns a tuple of three elements, in the following order:\n",
    "\n",
    "1. If BFS finds a solution, an instance of the `Path` class containing that solution. If it doesn't, it should return `None` as the first element of the tuple.\n",
    "2. The number of visited nodes\n",
    "3. The maximum size of the queue\n",
    "\n",
    "You should use a **visited list**, as otherwise the number of explored states in this problem will be large.\n",
    "\n",
    "Also, think that instead of implementing Breadth First Search directly, you could very easily implement a generic *simple_search* function that takes as one of the parameters a function to insert an element in the queue and use this function to implement breath first search, and also depth first search very easily. However, you are not required to do this.\n",
    "\n",
    "<div class=\"alert alert-info\">\n",
    "Implement `breadth_first_search(search_problem)` below.\n",
    "</div>\n",
    "\n"
   ]
  },
  {
   "cell_type": "code",
   "execution_count": 12,
   "metadata": {
    "collapsed": false,
    "deletable": false,
    "nbgrader": {
     "checksum": "eff266981871b5f411ddd865f43379bc",
     "grade": true,
     "grade_id": "bfs_code",
     "locked": false,
     "points": 45,
     "solution": true
    }
   },
   "outputs": [],
   "source": [
    "def breadth_first_search(search_problem):\n",
    "    \"\"\"This function should take a PuzzleProblem instance\n",
    "    and return a 3 element tuple as described above.\"\"\"\n",
    "    # Initialize start node:\n",
    "    S = SearchNode(search_problem.start)\n",
    "    \n",
    "    # Initialize Q with start node:\n",
    "    Q = [[S]]\n",
    "    \n",
    "    # Initialize visited list with start node:\n",
    "    V = [S]\n",
    "\n",
    "    # Initialze variable to hold max Q size:\n",
    "    max_Q = 0\n",
    "\n",
    "    while(Q):\n",
    "        # Check Q size and update max_Q accordingly:\n",
    "        if len(Q) > max_Q:\n",
    "            max_Q = len(Q)\n",
    "        \n",
    "        # Check if first item in Q is a solution:\n",
    "        if search_problem.test_goal(Q[0][0].state):\n",
    "            return (Path(Q[0][0]), len(V), max_Q)\n",
    "        else:\n",
    "            # Remove first item from Q:\n",
    "            N = Q.pop(0)\n",
    "            \n",
    "            # Expand first node in the item:\n",
    "            for node in search_problem.expand_node(N[0]):\n",
    "                # If the node is not in V, add it to the end of the path, add that path\n",
    "                # to Q, and add the node to V:\n",
    "                if not node in V:\n",
    "                    Q.append([node] + N)\n",
    "                    V.append(node)\n",
    "    \n",
    "    # Return state of N if Q is ever empty:\n",
    "    return (None, len(V), max_Q)\n",
    "\n",
    "\n",
    "# General Simple Search implementation:\n",
    "\n",
    "# Q update function for BDS:\n",
    "def Q_BFS(Q,item):\n",
    "    Q.append(item)\n",
    "\n",
    "# Q update function for DFS:\n",
    "def Q_DFS(Q,item):\n",
    "    Q.insert(0,item)\n",
    "\n",
    "def simple_search(update_Q, search_problem):\n",
    "    \"\"\"This function should take a PuzzleProblem instance\n",
    "    and return a 3 element tuple as described above.\"\"\"\n",
    "    # Initialize start node:\n",
    "    S = SearchNode(search_problem.start)\n",
    "    \n",
    "    # Initialize Q with start node:\n",
    "    Q = [[S]]\n",
    "    \n",
    "    # Initialize visited list with start node:\n",
    "    V = [S]\n",
    "\n",
    "    # Initialze variable to hold max Q size:\n",
    "    max_Q = 0\n",
    "\n",
    "    while(Q):\n",
    "        # Check Q size and update max_Q accordingly:\n",
    "        if len(Q) > max_Q:\n",
    "            max_Q = len(Q)\n",
    "        \n",
    "        # Check if first item in Q is a solution:\n",
    "        if search_problem.test_goal(Q[0][0].state):\n",
    "            return (Path(Q[0][0]), len(V), max_Q)\n",
    "        else:\n",
    "            # Remove first item from Q:\n",
    "            N = Q.pop(0)\n",
    "            \n",
    "            # Expand first node in the item:\n",
    "            for node in search_problem.expand_node(N[0]):\n",
    "                # If the node is not in V, add it to the end of the path, add that path\n",
    "                # to Q using the specified Q update function, and add the node to V:\n",
    "                if not node in V:\n",
    "                    update_Q(Q,[node] + N)\n",
    "                    V.append(node)\n",
    "    \n",
    "    # Return state of N if Q is ever empty:\n",
    "    return (None, len(V), max_Q)"
   ]
  },
  {
   "cell_type": "markdown",
   "metadata": {},
   "source": [
    "### Solve the Puzzle Problem using BFS\n",
    "\n",
    "Finally, let's use your Breath First Search implementation to solve the 8 Puzzle Problem.\n",
    "Execute the cell below. If your BFS implementation is correct, you should see the solution printed below.\n",
    "Don't modify the cell below, as it will be overwritten by our software. If you want to experiment with different states, create new cells below.\n"
   ]
  },
  {
   "cell_type": "code",
   "execution_count": 13,
   "metadata": {
    "collapsed": false,
    "deletable": false,
    "nbgrader": {
     "checksum": "a3afe4d77f07f6e98df9f03f3b548e88",
     "grade": false,
     "grade_id": "puzzle8_bfs_sol_code",
     "locked": true,
     "solution": false
    }
   },
   "outputs": [
    {
     "name": "stdout",
     "output_type": "stream",
     "text": [
      "Solution found!\n",
      "5 states in the solution (4 moves)\n",
      "43 states explored.\n",
      "18 maximum queue\n",
      "Solution: \n",
      "+-----+\n",
      "|  1 3|\n",
      "|4 2 5|\n",
      "|7 8 6|\n",
      "+-----+\n",
      "\n",
      "**\n",
      "\n",
      "+-----+\n",
      "|1   3|\n",
      "|4 2 5|\n",
      "|7 8 6|\n",
      "+-----+\n",
      "\n",
      "**\n",
      "\n",
      "+-----+\n",
      "|1 2 3|\n",
      "|4   5|\n",
      "|7 8 6|\n",
      "+-----+\n",
      "\n",
      "**\n",
      "\n",
      "+-----+\n",
      "|1 2 3|\n",
      "|4 5  |\n",
      "|7 8 6|\n",
      "+-----+\n",
      "\n",
      "**\n",
      "\n",
      "+-----+\n",
      "|1 2 3|\n",
      "|4 5 6|\n",
      "|7 8  |\n",
      "+-----+\n",
      "\n",
      "**\n",
      "\n"
     ]
    }
   ],
   "source": [
    "# Solve the 8 Puzzle Problem from state:\n",
    "# +-----+\n",
    "# |  1 3|\n",
    "# |4 2 5|\n",
    "# |7 8 6|\n",
    "# +-----+\n",
    "# Don't modify this cell (contents will be overwritten by autograder)\n",
    "# If you want to experiment with other states, try adding cells below.\n",
    "# You can try with state: ((1, 8, 2), (0, 4, 3), (7, 6, 5)) for example.\n",
    "# Remember that not all states have a solution. Try ((8, 1, 2), (0, 4, 3), (7, 6, 5)), for example.\n",
    "# Be ready to wait, though!\n",
    "\n",
    "start_state = ((0, 1, 3), (4, 2, 5), (7, 8, 6))\n",
    "goal_state = ((1,2,3),(4,5,6),(7,8,0))\n",
    "problem = PuzzleProblem(start_state, goal_state)\n",
    "\n",
    "sol, num_visited, max_q = breadth_first_search(problem)\n",
    "\n",
    "if sol:\n",
    "    print(\"Solution found!\\n%d states in the solution (%d moves)\\n%d states explored.\\n%d maximum queue\" \\\n",
    "          %(len(sol.path), len(sol.path)-1, num_visited,max_q))\n",
    "    print(\"Solution: \")\n",
    "    for s in sol.path:\n",
    "        print_state(s)\n",
    "        print(\"\\n**\\n\")\n",
    "else:\n",
    "    print \"No solution after exploring %d states with max q of %d\" %(num_visited, max_q)"
   ]
  },
  {
   "cell_type": "markdown",
   "metadata": {},
   "source": [
    "### <a name=\"bfs_vs_dfs\"></a> Breadth First Search vs Depth First Search (20 points)\n",
    "\n",
    "Have you tried using DFS to solve this problem?\n",
    "\n",
    "Would DFS be a better choice for this problem? What benefits does BFS have over DFS in this problem? Please explain in the cell below (double click on the cell below, remove the text and type your answer)."
   ]
  },
  {
   "cell_type": "markdown",
   "metadata": {
    "deletable": false,
    "nbgrader": {
     "checksum": "35328cb60ffaf0af938b320d052d35cd",
     "grade": true,
     "grade_id": "bfs_vs_dfs_sol",
     "locked": false,
     "points": 20,
     "solution": true
    }
   },
   "source": [
    "BFS is a better choice for this problem because if one of the first few moves taken by DFS is wrong, meaning that the move must be reversed in order to reach a path to the goal state, then DFS has go through all reachable states following the wrong move before it can get back to a state from which the goal can be reached because the visited list condition prevents move reversals.  Traversing all children nodes in this manner will take a significant amount of time since there are a very large number of feasible states in the 8 puzzle (9!/2).  BFS has the benefit of exploring all paths of a given length from the start state before moving to a deeper level of the search tree.  This means it will explore all good and bad paths, and will terminate as soon as it finds the path of shortest length (fewest number of moves).  The drawback for BFS verses DFS is if the solution involves a large number of moves, which means running BFS will require a significant amount of memory to complete.  The time to run BFS also increases as the minimum number of moves to the solution increases."
   ]
  }
 ],
 "metadata": {
  "kernelspec": {
   "display_name": "Python 2",
   "language": "python",
   "name": "python2"
  },
  "language_info": {
   "codemirror_mode": {
    "name": "ipython",
    "version": 2
   },
   "file_extension": ".py",
   "mimetype": "text/x-python",
   "name": "python",
   "nbconvert_exporter": "python",
   "pygments_lexer": "ipython2",
   "version": "2.7.9"
  }
 },
 "nbformat": 4,
 "nbformat_minor": 0
}
