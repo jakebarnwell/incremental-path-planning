{
 "cells": [
  {
   "cell_type": "code",
   "execution_count": null,
   "metadata": {
    "collapsed": false
   },
   "outputs": [],
   "source": [
    "%load_ext autoreload\n",
    "%autoreload 2\n",
    "%matplotlib inline\n",
    "\n",
    "from __future__ import division\n",
    "import math\n",
    "import numpy as np\n",
    "import matplotlib.pyplot as plt\n",
    "from tests import *\n",
    "from world import World\n",
    "from grid import *\n",
    "from queue import PriorityQueue\n",
    "from graph import get_intended_path\n",
    "\n",
    "inf = float(\"inf\")"
   ]
  },
  {
   "cell_type": "markdown",
   "metadata": {},
   "source": [
    "# Problem Set - Incremental Path Planning\n",
    "\n",
    "In this mini pset, you will implement an incremental path planning technique called D\\* Lite to help a mobile robot navigate through an 8-connected grid world (that is, a grid where each cell has 8 neighbors).  First you'll learn about the data structures used by the algorithm, then you'll implement four helper functions, and finally you'll implement the main D\\* Lite algorithm.\n",
    "\n",
    "In this pset, the robot's knowledge of the world is imperfect. It knows the start node, the goal node, and its current position, but it has incomplete knowledge of the world because it can only see cells that are \"nearby\" (in this pset, we consider \"nearby\" cells to be the 8 neighbors of the cell). Hence, as the robot moves, it learns about the environment and updates its current \"belief state\" of the world. The robot does have memory: it will remember the status of any cells that it used to be in contact with.\n",
    "\n",
    "To begin, we'll introduce the provided data structures. Please read and run the examples below, making sure that you understand the code and that there are no errors."
   ]
  },
  {
   "cell_type": "code",
   "execution_count": null,
   "metadata": {
    "collapsed": false
   },
   "outputs": [],
   "source": [
    "# Example: creating a grid from string and drawing it. We can easily create grids from strings\n",
    "#  by using the Grid.create_from_str method. The grid string should be 'rectangular' with\n",
    "#  entries as defined below, delimited by spaces:\n",
    "#   0 -> free cell\n",
    "#   1 -> obstacle\n",
    "#   S -> starting point\n",
    "#   G -> the goal\n",
    "grid_str = \"\"\"0 0 0 0 S\n",
    "              0 1 1 1 0\n",
    "              0 1 1 1 1\n",
    "              0 1 0 1 G\n",
    "              0 0 0 0 0\"\"\"\n",
    "grid = Grid.create_from_str(grid_str)\n",
    "d = grid.draw()"
   ]
  },
  {
   "cell_type": "markdown",
   "metadata": {},
   "source": [
    "In the drawing above, black cells represent obstacles, white cells are passable, the start node is green, and the goal node is red.\n",
    "\n",
    "Note that a grid does not store information about the robot or any path, just the state of the cells themselves.\n",
    "\n",
    "Next we will convert a grid into a graph using a built in method."
   ]
  },
  {
   "cell_type": "code",
   "execution_count": null,
   "metadata": {
    "collapsed": false
   },
   "outputs": [],
   "source": [
    "#Convert your grid to a graph\n",
    "graph = grid.to_graph()\n",
    "d = graph.draw()"
   ]
  },
  {
   "cell_type": "markdown",
   "metadata": {},
   "source": [
    "Recall that our grids are 8-connected, so each node of this graph can have up to 8 (bi-directional) edges leading to its neighbors. Edges between passable cells are of unit weight, whereas edges to and from obstacle cells are of infinite weight. We will not be using this representation much, since it's hard to tell from a quick glance what is going on.\n",
    "\n",
    "Next we will learn about the World object.\n",
    "\n",
    "A World object represents the belief-state and history of a robot. In particular, a World object stores what the world (as a grid) *looks like* to the robot at any particular point in time (the belief state), as well as what the world *really* looks like (the ground truth).\n",
    "\n",
    "A World also stores:\n",
    "* the current position of the robot as a tuple (x,y)\n",
    "* the current discretized time, initialized at 0 and incremented by 1 whenever update_world is called\n",
    "* the path travelled by the robot thus far in the World\n",
    "\n",
    "After initialization, the only way to mutate any data in a World is through the method update_world(path), which takes an intended path from the current location to the goal node.\n",
    "    \n",
    "In the examples below, read and run the provided code to:\n",
    "- create a World from the grid you defined above, then display the robot's current knowledge of the world\n",
    "- see the ground truth (what the world *really* looks like)\n",
    "- use update_world to move the robot and see how its knowledge changes"
   ]
  },
  {
   "cell_type": "code",
   "execution_count": null,
   "metadata": {
    "collapsed": false
   },
   "outputs": [],
   "source": [
    "# An example of viewing and updating the world, drawing the\n",
    "# world state at each time step.\n",
    "\n",
    "# The World constructor takes in the grid, as well as the robot's start position as a tuple.\n",
    "world = World(grid, (4, 4))\n",
    "d = world.draw()"
   ]
  },
  {
   "cell_type": "markdown",
   "metadata": {},
   "source": [
    "Calling world.draw() by default gives you the robot's understanding of its environment. Recall that a robot always knows its location, as well as the start and goal nodes, regardless of their distance from the robot. Besides the start and goal nodes, the robot knows the status of its own cell as well as the status of its 8 neighbors.\n",
    "\n",
    "Next, we visualize the \"ground truth\" grid, which represents the true environment that the robot doesn't necessarily \"know\" about:"
   ]
  },
  {
   "cell_type": "code",
   "execution_count": null,
   "metadata": {
    "collapsed": false
   },
   "outputs": [],
   "source": [
    "#Observe the ground truth\n",
    "d = world.draw(ground_truth=True)"
   ]
  },
  {
   "cell_type": "markdown",
   "metadata": {},
   "source": [
    "We supply this option so that you may have an easier time debugging.\n",
    "\n",
    "Below, we explore the update_world method.\n",
    "\n",
    "Typically, update_world method is called at every time step, taking in a path (an ordered list of tuples from the robot's new position to the goal) and updating the environment appropriately. In particular, update_world always\n",
    "* updates the *ground truth* world to reflect, for example, moving obstacles or changing edge-weights, **and**\n",
    "* updates the robot's *belief state* of the world, typically based on where the robot is, since it only knows for certain the statuses of its neighboring cells\n",
    "\n",
    "with two important considerations:\n",
    "1. Depending on the current time, the ground truth grid is not necessarily guaranteed to change. If there are no updates necessary (i.e. if there are no edge or obstacle changes), obviously nothing will change.\n",
    "2. Depending on the robot's position (in particular, if the robot hasn't moved), the robot's belief state may not necessarily change. If the robot does not move, of course there is nothing new to see.\n",
    "\n",
    "In this particular pset, we have chosen not to showcase moving obstacles. Instead, update_world only acts via updating the robot's belief state given its position."
   ]
  },
  {
   "cell_type": "code",
   "execution_count": null,
   "metadata": {
    "collapsed": false
   },
   "outputs": [],
   "source": [
    "# Move the robot and observe how its knowledge of the world changes:\n",
    "# Note that the input to update_world is an intended path, specified\n",
    "# as a list of nodes that the robot plans to traverse to reach its goal.\n",
    "# Recall that the robot started at (4,4). Hence, the first element of\n",
    "# the path argument is *not* (4,4), but is instead the *next* step for\n",
    "# the robot.\n",
    "world = World(grid, (4, 4))\n",
    "world.update_world([(3,3),(3,2),(3,1),(4,0)])\n",
    "d = world.draw()"
   ]
  },
  {
   "cell_type": "markdown",
   "metadata": {},
   "source": [
    "What have we done?! We first created the world, then updated the world with the next \"intended path\" for the robot. Calling world.draw() then lets us visualize where the robot is, as well as its path so far (green), and its intended future path (red). In this clearly contrived example, the \"intended path\" ends at (4,0) which is not the goal node. When implementing D\\* Lite, you will obviously want your paths to end at the goal node..\n",
    "\n",
    "Now, let's see how to get an *animated* view of the robot traveling along its path (solid green line), with its intended future path (red dashed line) displayed at each time step.\n",
    "\n",
    "As soon as you execute the cell below, you should be able to watch a \"live\" animation of the robot moving. Don't miss it!"
   ]
  },
  {
   "cell_type": "code",
   "execution_count": null,
   "metadata": {
    "collapsed": false
   },
   "outputs": [],
   "source": [
    "# Start with a fresh world with the robot at start position (4,4), and\n",
    "#  call update_world several times, each time with the new \"intended path\"\n",
    "#  for the robot. Once, the robot reaches (4,0), we call world.draw_all_path()\n",
    "world = World(grid, (4, 4))\n",
    "world.update_world([(3,3),(3,2),(3,1),(4,0)])\n",
    "world.update_world([(4,2),(4,1),(4,0)])\n",
    "world.update_world([(4,1),(4,0)])\n",
    "world.update_world([(4,0)])\n",
    "\n",
    "world.draw_all_path()"
   ]
  },
  {
   "cell_type": "markdown",
   "metadata": {
    "collapsed": true
   },
   "source": [
    "<h2>D\\* Lite Implementation</h2>\n",
    "\n",
    "Now it's your turn to write code for the D\\* Lite algorithm!\n",
    "\n",
    "Our implementation of the algorithm uses the following variables:\n",
    "- g: a dictionary mapping nodes to their current g-values\n",
    "- rhs: a dictionary mapping nodes to their current rhs-values\n",
    "- key_modifier: a number representing the current key modifier k_m\n",
    "- queue: a PriorityQueue using calc_key as its priority function\n",
    "- graph: the Graph representing the robot's initial map of the world. You'll want to update graph whenever the world changes.\n",
    "\n",
    "First, you'll code some helper functions to be used in the D\\* Lite algorithm.\n",
    "\n",
    "Implement grid_heuristic and calc_key_helper, then run the tests below."
   ]
  },
  {
   "cell_type": "code",
   "execution_count": null,
   "metadata": {
    "collapsed": true
   },
   "outputs": [],
   "source": [
    "def grid_heuristic(node1, node2):\n",
    "    \"\"\"Given two nodes as (x,y) grid-coordinate tuples (e.g. (2,3)), computes the\n",
    "    heuristic grid-based heuristic value between the nodes.\n",
    "    (Hint: The heuristic value is just the maximum of the difference in x or y.)\"\"\"\n",
    "    return max(map(abs, [node1[i]-node2[i] for i in (0,1)]))"
   ]
  },
  {
   "cell_type": "code",
   "execution_count": null,
   "metadata": {
    "collapsed": true
   },
   "outputs": [],
   "source": [
    "def calc_key_helper(node, g, rhs, start, key_modifier, heuristic=grid_heuristic):\n",
    "    \"Computes the node's current key and returns it as a tuple of two numbers.\"\n",
    "    min_g_rhs = min([g[node], rhs[node]])\n",
    "    return (min_g_rhs + heuristic(start, node) + key_modifier, min_g_rhs)"
   ]
  },
  {
   "cell_type": "code",
   "execution_count": null,
   "metadata": {
    "collapsed": false
   },
   "outputs": [],
   "source": [
    "# Test grid_heuristic and calc_key_helper\n",
    "test_grid_heuristic(grid_heuristic)\n",
    "test_calc_key_helper(calc_key_helper)\n",
    "test_ok()"
   ]
  },
  {
   "cell_type": "markdown",
   "metadata": {},
   "source": [
    "Next, you will implement a method for updating a vertex, following the pseudocode for D\\* Lite.\n",
    "(Recommended reference: <a href=http://pub1.willowgarage.com/~konolige/cs225b/dlite_tro05.pdf>2002 draft of Koenig & Likhachev's D\\* Lite paper</a>.  The relevant pseudocode is on page 5.)\n",
    "\n",
    "Some of the following Graph methods may be helpful:\n",
    "- graph.get_all_nodes(): returns a set of all nodes in the graph\n",
    "- graph.get_predecessors(node): returns a list of nodes that are predecessors of the input node\n",
    "- graph.get_successors(node): returns a list of nodes that are successors of the input node\n",
    "- graph.get_edge_weight(source, target): returns the edge weight of the edge from source to target, or raises a ValueError if no such edge exists.\n",
    "- graph.get_edge(source, target): returns the Edge connecting source to target, or None if no such Edge exists.\n",
    "\n",
    "An Edge is an object with three self-explanatory properties: edge.source, edge.target, and edge.weight.\n",
    "\n",
    "Use the following methods to manipulate a PriorityQueue:\n",
    "- queue.insert(item): inserts the item into the queue, automatically computing the item's key\n",
    "- queue.remove(item): deletes all instances of the item from the queue\n",
    "\n",
    "Implement update_vertex_helper, then run the tests below."
   ]
  },
  {
   "cell_type": "code",
   "execution_count": null,
   "metadata": {
    "collapsed": true
   },
   "outputs": [],
   "source": [
    "def update_vertex_helper(node, g, rhs, goal, graph, queue):\n",
    "    \"\"\"As in the D* Lite pseudocode, this method updates node's rhs value and\n",
    "    queue status. Returns nothing.\"\"\"\n",
    "    if node != goal:\n",
    "        rhs[node] = min([graph.get_edge_weight(node, neighbor) + g[neighbor]\n",
    "                         for neighbor in graph.get_successors(node)])\n",
    "    if node in queue:\n",
    "        queue.remove(node)\n",
    "    if g[node] != rhs[node]:\n",
    "        queue.insert(node)"
   ]
  },
  {
   "cell_type": "code",
   "execution_count": null,
   "metadata": {
    "collapsed": false
   },
   "outputs": [],
   "source": [
    "test_update_vertex_helper(update_vertex_helper)\n",
    "test_ok()"
   ]
  },
  {
   "cell_type": "markdown",
   "metadata": {},
   "source": [
    "Just one more helper function before we get to the main function!  This function will closely follow ComputeShortestPath() from the D\\* Lite pseudocode.\n",
    "\n",
    "In addition to the methods mentioned above, the following may be useful:\n",
    "- queue.pop(): removes the next item from the priority queue and returns it\n",
    "- queue.top_key(): returns the key corresponding to the next item in the queue, without removing the item\n",
    "\n",
    "Note that you can use the functions calc_key(node) and update_vertex(node) to\n",
    "call your helper functions without needing to pass in all the arguments.\n",
    "\n",
    "You can also use the constant inf to represent infinity.\n",
    "\n",
    "Implement compute_shortest_path_helper, then run the tests below."
   ]
  },
  {
   "cell_type": "code",
   "execution_count": null,
   "metadata": {
    "collapsed": true
   },
   "outputs": [],
   "source": [
    "def compute_shortest_path_helper(g, rhs, start, goal, key_modifier, graph, queue):\n",
    "    \"\"\"As in the D* Lite pseudocode, this method computes (or recomputes) the\n",
    "    shortest path by popping nodes off the queue, updating their g and rhs\n",
    "    values, and calling update_vertex on their neighbors.  Returns nothing.\"\"\"\n",
    "    # Helper functions that take in only one argument, node:\n",
    "    def calc_key(node):\n",
    "        return calc_key_helper(node, g, rhs, start, key_modifier)\n",
    "    def update_vertex(node):\n",
    "        return update_vertex_helper(node, g, rhs, goal, graph, queue)\n",
    "\n",
    "    verbose = False #set this to True to enable print statements below\n",
    "    \n",
    "    if verbose: print '> COMPUTE SHORTEST PATH'\n",
    "    while True:\n",
    "        smallest_key = queue.top_key()\n",
    "        if smallest_key >= calc_key(start) and rhs[start] == g[start]:\n",
    "            break\n",
    "        node = queue.pop()\n",
    "        if verbose: print '> dequeue node', node, 'with h =', grid_heuristic(node, start)\n",
    "        if smallest_key < calc_key(node):\n",
    "            print smallest_key, calc_key(node), node\n",
    "            queue.insert(node)\n",
    "        elif g[node] > rhs[node]:\n",
    "            g[node] = rhs[node]\n",
    "            for next_node in graph.get_predecessors(node):\n",
    "                update_vertex(next_node)\n",
    "        else:\n",
    "            g[node] = inf\n",
    "            for next_node in graph.get_predecessors(node) + [node]:\n",
    "                update_vertex(next_node)\n"
   ]
  },
  {
   "cell_type": "code",
   "execution_count": null,
   "metadata": {
    "collapsed": false
   },
   "outputs": [],
   "source": [
    "test_compute_shortest_path_helper(compute_shortest_path_helper,calc_key_helper)\n",
    "test_ok()"
   ]
  },
  {
   "cell_type": "markdown",
   "metadata": {},
   "source": [
    "Now it's time to implement D\\* Lite!\n",
    "\n",
    "Our implementation of the algorithm will take in an IncrementalSearchProblem object, which has the following properties and methods:\n",
    "- problem.start_node\n",
    "- problem.goal_node\n",
    "- problem.is_robot_at_goal(): returns True if robot is at goal_node, otherwise False\n",
    "- problem.get_graph(): returns a Graph representing the robot's current belief state, or knowledge of the world\n",
    "- problem.update_world(intended_path): given an intended path as a list of nodes, updates the robot's belief graph and returns the updated graph.  This is the only way to update an IncrementalSearchProblem.\n",
    "\n",
    "In the pseudocode for D\\* Lite, the algorithm only keeps track of the robot's next step (s_start), not its entire planned\n",
    "path.  To get the planned path, you can use this helper function:\n",
    "\n",
    "- get_intended_path(next_step, goal, graph, g)\n",
    "\n",
    "get_intended_path takes in a node next_step indicating where the robot will move to next (i.e.\n",
    "since the last update), the goal node, the robot's current graph, and the dict\n",
    "of g-values.  It uses g-values to reconstruct and return the robot's planned\n",
    "path as a list of nodes [next_step, ... , goal], which is exactly the intended_path argument\n",
    "required by problem.update_world.\n",
    "\n",
    "\n",
    "If you want to see which edges are different between two graphs, you can use this Graph method:\n",
    "\n",
    "- my_graph.get_changed_edges(other_graph): returns a set of tuples (my_edge, their_edge) containing corresponding pairs of edges whose weights differ between the two graphs.\n",
    "\n",
    "In case you need to make a deep copy of a Queue, Graph, or IncrementalSearchProblem, we've provided a .copy() method in each of those classes. This method will return a deep copy of the object in question.\n",
    "\n",
    "\n",
    "As above, you can use the functions calc_key(node) and update_vertex(node), as\n",
    "well as compute_shortest_path() and heuristic(node1, node2), to call your helper \n",
    "functions without needing to pass in all the arguments.\n",
    "\n",
    "In the dstar_lite method below, we've implemented all the initialization for\n",
    "you.  We recommend reading the comments in the INITIALIZE section to understand\n",
    "what is going on.  Then, implement the rest of D\\* Lite, using the provided API\n",
    "and following the D\\* Lite pseudocode.  When you're done, you can test your\n",
    "implementation in the test block below."
   ]
  },
  {
   "cell_type": "code",
   "execution_count": null,
   "metadata": {
    "collapsed": true
   },
   "outputs": [],
   "source": [
    "def dstar_lite(problem):\n",
    "    \"\"\"Performs D* Lite to incrementally find a shortest path as the robot\n",
    "    moves through the graph.  Updates the IncrementalSearchProblem, problem, by\n",
    "    calling problem.update_world.  The search terminates when the robot either\n",
    "    reaches the goal, or finds that there is no path to the goal.  Returns the\n",
    "    modified problem.\n",
    "\n",
    "    Note: The world is dynamic, so the true positions of obstacles may change as\n",
    "    the robot moves through the world.  However, if the robot determines at any\n",
    "    point that there is no finite path to the goal, it should stop searching and\n",
    "    give up, rather than waiting and hoping that the world will improve.\n",
    "    \"\"\"\n",
    "\n",
    "    ############################################################################\n",
    "    # INITIALIZE\n",
    "\n",
    "    # Get the start node, goal node, and graph from the IncrementalSearchProblem\n",
    "    start = problem.start_node\n",
    "    goal = problem.goal_node\n",
    "    graph = problem.get_graph()\n",
    "\n",
    "    # Set g=inf and rhs=inf for all nodes, except the goal node, which has rhs=0\n",
    "    g = {node:inf for node in graph.get_all_nodes()}\n",
    "    rhs = {node:inf for node in graph.get_all_nodes()}\n",
    "    rhs[goal] = 0\n",
    "\n",
    "    # Set the key modifier k_m to 0\n",
    "    key_modifier = 0\n",
    "\n",
    "    # Define shortened helper functions\n",
    "    def calc_key(node):\n",
    "        return calc_key_helper(node, g, rhs, start, key_modifier)\n",
    "    queue = None # to be reinitialized later\n",
    "    def update_vertex(node):\n",
    "        return update_vertex_helper(node, g, rhs, goal, graph, queue)\n",
    "    def compute_shortest_path():\n",
    "        return compute_shortest_path_helper(g, rhs, start, goal, key_modifier, graph, queue)\n",
    "    heuristic = grid_heuristic\n",
    "\n",
    "    # Initialize the queue using the priority function calc_key\n",
    "    queue = PriorityQueue(f=lambda node: calc_key(node))\n",
    "    queue.insert(goal)\n",
    "\n",
    "    ############################################################################\n",
    "    verbose = False #set this to True to enable print statements below\n",
    "    \n",
    "    # Begin algorithm\n",
    "    last_start = start\n",
    "    compute_shortest_path()\n",
    "    if verbose: print 'robot starting at:', start\n",
    "\n",
    "    while start != goal:\n",
    "        if g[start] == inf:\n",
    "            if verbose: print \"no path found\"\n",
    "            return problem\n",
    "        start = min(graph.get_successors(start),\n",
    "                    key = lambda neighbor: (graph.get_edge_weight(start, neighbor)\n",
    "                                            + g[neighbor]))\n",
    "        old_graph = graph.copy()\n",
    "        if verbose: print 'robot moving to:', start\n",
    "        intended_path = get_intended_path(start, goal, graph, g)\n",
    "        if verbose: print 'intended path:', intended_path\n",
    "        graph = problem.update_world(intended_path)\n",
    "        changed_edges = old_graph.get_changed_edges(graph)\n",
    "        if changed_edges:\n",
    "            key_modifier = key_modifier + heuristic(last_start, start)\n",
    "            last_start = start\n",
    "            for (old_edge, new_edge) in changed_edges:\n",
    "                if old_edge and new_edge: #edge simply changed weight\n",
    "                    update_vertex(old_edge.source)\n",
    "                elif not old_edge: #new edge was added\n",
    "                    raise NotImplementedError(\"Edge addition not yet supported\")\n",
    "                else: #old edge was deleted\n",
    "                    raise NotImplementedError(\"Edge deletion not yet supported\")\n",
    "            compute_shortest_path()\n",
    "    return problem #contains path traversed, intended future path, and other info"
   ]
  },
  {
   "cell_type": "code",
   "execution_count": null,
   "metadata": {
    "collapsed": false
   },
   "outputs": [],
   "source": [
    "# This test uses the example from page 6 of Koenig & Likhachev's paper, referenced above.\n",
    "test_dstar_lite(dstar_lite)\n",
    "test_ok()"
   ]
  },
  {
   "cell_type": "markdown",
   "metadata": {},
   "source": [
    "Once all the tests above pass, you're done!  \n",
    "\n",
    "If you want to try your D\\* Lite algorithm on a larger (40x30) grid, run the function below. This will probably take several minutes, so please be patient! (On our machines, it took between 2 and 3 minutes.) Instead of automatically starting the animation after the algorithm as finished, we simply return the problem so that in the next cell you can call problem.draw_all_path()"
   ]
  },
  {
   "cell_type": "code",
   "execution_count": null,
   "metadata": {
    "collapsed": false
   },
   "outputs": [],
   "source": [
    "hard_problem_done = run_dstar_lite_hard_grid(dstar_lite)"
   ]
  },
  {
   "cell_type": "markdown",
   "metadata": {},
   "source": [
    "Assuming that the above cell ran successfully, you can now watch the robot's trajectory!"
   ]
  },
  {
   "cell_type": "code",
   "execution_count": null,
   "metadata": {
    "collapsed": false
   },
   "outputs": [],
   "source": [
    "hard_problem_done.draw_all_path(time_step=0.5)"
   ]
  },
  {
   "cell_type": "code",
   "execution_count": null,
   "metadata": {
    "collapsed": true
   },
   "outputs": [],
   "source": []
  }
 ],
 "metadata": {
  "kernelspec": {
   "display_name": "Python 2",
   "language": "python",
   "name": "python2"
  },
  "language_info": {
   "codemirror_mode": {
    "name": "ipython",
    "version": 2
   },
   "file_extension": ".py",
   "mimetype": "text/x-python",
   "name": "python",
   "nbconvert_exporter": "python",
   "pygments_lexer": "ipython2",
   "version": "2.7.6"
  }
 },
 "nbformat": 4,
 "nbformat_minor": 0
}
