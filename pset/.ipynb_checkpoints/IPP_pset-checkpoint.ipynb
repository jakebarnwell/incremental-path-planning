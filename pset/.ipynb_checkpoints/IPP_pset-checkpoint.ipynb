{
 "cells": [
  {
   "cell_type": "code",
   "execution_count": null,
   "metadata": {
    "collapsed": false
   },
   "outputs": [],
   "source": [
    "%load_ext autoreload\n",
    "%autoreload 2\n",
    "%matplotlib inline\n",
    "#%pylab inline\n",
    "\n",
    "from __future__ import division\n",
    "import math\n",
    "import numpy as np\n",
    "import matplotlib.pyplot as plt\n",
    "from world import World\n",
    "from grid import *\n",
    "from queue import PriorityQueue\n",
    "from utils import get_intended_path"
   ]
  },
  {
   "cell_type": "markdown",
   "metadata": {},
   "source": [
    "# Problem Set - Incremental Path Planning\n",
    "\n",
    "In this pset you are going to implement an incremental path planning technique called D* Lite.\n",
    "\n",
    "The challenge will be navigating a robot that lives in a grid world. The robot knows its starting pose and its goal.\n",
    "However, the robot can not see too far: it can only detects a few cells around it. However, he can remember all the cells it has already been to.\n",
    "\n",
    "So, in the beggining, you are going to learn how to use the data structure we provided do you.\n",
    "\n",
    "In this first example, create a simple grid world."
   ]
  },
  {
   "cell_type": "code",
   "execution_count": null,
   "metadata": {
    "collapsed": false
   },
   "outputs": [],
   "source": [
    "#Example: creating a grid world from string\n",
    "# 0 -> free cell\n",
    "# 1 -> obstacle\n",
    "# S -> starting point\n",
    "# G -> the goal\n",
    "grid_str = \"\"\"0 0 0 0 S\n",
    "              0 1 1 1 0\n",
    "              0 1 1 1 1\n",
    "              0 1 0 1 G\n",
    "              0 0 0 0 0\"\"\"\n",
    "grid = Grid.create_from_str(grid_str)\n",
    "grid.draw()"
   ]
  },
  {
   "cell_type": "code",
   "execution_count": null,
   "metadata": {
    "collapsed": false
   },
   "outputs": [],
   "source": [
    "#Convert your grid to a graph\n",
    "graph = grid.to_graph()\n",
    "graph.draw()"
   ]
  },
  {
   "cell_type": "markdown",
   "metadata": {},
   "source": [
    "Now, use the grid you already have to create a World.\n",
    "\n",
    "First, create a world and see what's the current perception the robot has.\n",
    "\n",
    "Then, access the ground truth of the world.\n",
    "\n",
    "Finally, update the world and see how the knowledge the robot has about the world changes."
   ]
  },
  {
   "cell_type": "code",
   "execution_count": null,
   "metadata": {
    "collapsed": false
   },
   "outputs": [],
   "source": [
    "# An example of updating the world with succesively new paths\n",
    "#  each time, and drawing the world-state at each time step.\n",
    "\n",
    "#Create a world\n",
    "world = World(grid, (4, 4))\n",
    "world.draw()"
   ]
  },
  {
   "cell_type": "code",
   "execution_count": null,
   "metadata": {
    "collapsed": false
   },
   "outputs": [],
   "source": [
    "#Observe the ground truth\n",
    "world.draw(ground_truth=True)"
   ]
  },
  {
   "cell_type": "code",
   "execution_count": null,
   "metadata": {
    "collapsed": false
   },
   "outputs": [],
   "source": [
    "#Move the robot and observe how his knowledge of the world changes:\n",
    "#Notice that on the update_world function you should input all the path you still plan to do\n",
    "world.update_world([(3,3),(3,2),(3,1),(4,0)])\n",
    "world.draw()"
   ]
  },
  {
   "cell_type": "markdown",
   "metadata": {},
   "source": [
    "Now, let's see how to get an animated view of the robot going through its path.\n",
    "\n",
    "Notice that this is NOT a valid path, since the robot goes through obstacles and its final cell is not the goal."
   ]
  },
  {
   "cell_type": "code",
   "execution_count": null,
   "metadata": {
    "collapsed": false
   },
   "outputs": [],
   "source": [
    "world = World(grid, (4, 4))\n",
    "world.update_world([(3,3),(3,2),(3,1),(4,0)])\n",
    "world.update_world([(4,2),(4,1),(4,0)])\n",
    "world.update_world([(4,1),(4,0)])\n",
    "world.update_world([(4,0)])\n",
    "\n",
    "world.draw_all_path()"
   ]
  },
  {
   "cell_type": "markdown",
   "metadata": {
    "collapsed": true
   },
   "source": [
    "Now, let's actually move to D* Lite.\n",
    "\n",
    "Our implementation of the algorithm uses the following variables:\n",
    "g: a dictionary mapping nodes to their current g-values\n",
    "rhs: a dictionary mapping nodes to their current rhs-values\n",
    "key_modifier: a number representing the current key modifier k_m\n",
    "queue: a PriorityQueue using calc_key as its priority function\n",
    "graph: the Graph representing the robot's initial map of the world. You'll want\n",
    "    to update this variable whenever the world changes.\n",
    "\n",
    "First, you'll code some helper functions to be used in the D* Lite algorithm.\n",
    "\n",
    "Implement grid_heuristic and calc_key_helper, then run the tests below."
   ]
  },
  {
   "cell_type": "code",
   "execution_count": null,
   "metadata": {
    "collapsed": true
   },
   "outputs": [],
   "source": [
    "def grid_heuristic(node1, node2):\n",
    "    \"\"\"Given two nodes as (x,y) grid-coordinate tuples, computes the heuristic\n",
    "    value between the nodes.  (Hint: The heuristic value is just the maximum of\n",
    "    the difference in x or y.)\"\"\"\n",
    "    raise NotImplementedError"
   ]
  },
  {
   "cell_type": "code",
   "execution_count": null,
   "metadata": {
    "collapsed": true
   },
   "outputs": [],
   "source": [
    "def calc_key_helper(node, g, rhs, start, key_modifier, heuristic=grid_heuristic):\n",
    "    \"Computes the node's current key and returns it as a tuple of two numbers.\"\n",
    "    raise NotImplementedError"
   ]
  },
  {
   "cell_type": "code",
   "execution_count": null,
   "metadata": {
    "collapsed": false
   },
   "outputs": [],
   "source": [
    "\"Test grid_heuristic and calc_key_helper:\"\n",
    "test_grid_heuristic(grid_heuristic)\n",
    "test_calc_key_helper(calc_key_helper)"
   ]
  },
  {
   "cell_type": "markdown",
   "metadata": {},
   "source": [
    "Next, implement update_vertex_helper, following the pseudocode for D* Lite,\n",
    "then run the tests below."
   ]
  },
  {
   "cell_type": "code",
   "execution_count": null,
   "metadata": {
    "collapsed": true
   },
   "outputs": [],
   "source": [
    "def update_vertex_helper(node, g, rhs, goal, graph, queue):\n",
    "    \"\"\"As in the D* Lite pseudocode, this method updates node's rhs value and\n",
    "    queue status. Returns nothing.\"\"\"\n",
    "    raise NotImplementedError"
   ]
  },
  {
   "cell_type": "code",
   "execution_count": null,
   "metadata": {
    "collapsed": false
   },
   "outputs": [],
   "source": [
    "\"Test update_vertex_helper:\"\n",
    "test_update_vertex_helper(update_vertex_helper)"
   ]
  },
  {
   "cell_type": "markdown",
   "metadata": {},
   "source": [
    "Just one more helper function before we get to the main function!\n",
    "Implement compute_shortest_path_helper, following the pseudocode for D* Lite,\n",
    "then run the tests below.\n",
    "\n",
    "Note that you can use the functions calc_key(node) and update_vertex(node) to\n",
    "call your helper functions without needing to pass in all the arguments."
   ]
  },
  {
   "cell_type": "code",
   "execution_count": null,
   "metadata": {
    "collapsed": true
   },
   "outputs": [],
   "source": [
    "def compute_shortest_path_helper(g, rhs, start, goal, key_modifier, graph, queue):\n",
    "    \"\"\"As in the D* Lite pseudocode, this method computes (or recomputes) the\n",
    "    shortest path by popping nodes off the queue, updating their g and rhs\n",
    "    values, and calling update_vertex on their neighbors.  Returns nothing.\"\"\"\n",
    "    # Helper functions that take in only one argument, node:\n",
    "    def calc_key(node):\n",
    "        return calc_key_helper(node, g, rhs, start, key_modifier)\n",
    "    def update_vertex(node):\n",
    "        return update_vertex_helper(node, g, rhs, goal, graph, queue)\n",
    "\n",
    "    # YOUR CODE HERE\n",
    "    raise NotImplementedError"
   ]
  },
  {
   "cell_type": "code",
   "execution_count": null,
   "metadata": {
    "collapsed": false
   },
   "outputs": [],
   "source": [
    "\"Test compute_shortest_path_helper:\"\n",
    "test_compute_shortest_path_helper(compute_shortest_path_helper,calc_key_helper)"
   ]
  },
  {
   "cell_type": "markdown",
   "metadata": {},
   "source": [
    "Now it's time to implement D* Lite!\n",
    "\n",
    "As above, you can use the functions calc_key(node) and update_vertex(node), as\n",
    "well as compute_shortest_path(), to call your helper functions without needing\n",
    "to pass in all the arguments.\n",
    "\n",
    "As described in the API, the only way to update an IncrementalSearchProblem is\n",
    "by calling problem.update_world(intended_path).  However, the standard D* Lite\n",
    "algorithm only keeps track of the robot's next step, not its entire planned\n",
    "path.  To get the planned path, you can use this helper function:\n",
    "\n",
    "    get_intended_path(next_step, goal, graph, g)\n",
    "\n",
    "It takes in a node next_step indicating where the robot will move to next (i.e.\n",
    "since the last update), the goal node, the robot's current graph, and the dict\n",
    "of g-values.  It uses g-values to reconstruct and return the robot's planned\n",
    "path as a list of nodes [next_step, ... , goal], which is exactly the argument\n",
    "required by problem.update_world.\n",
    "\n",
    "In the method dstar_lite, below, we've implemented all the initialization for\n",
    "you.  We recommend reading the comments in the INITIALIZE section to understand\n",
    "what is going on.  Then, implement the rest of D* Lite, using the provided API\n",
    "and following the D* Lite pseudocode.  When you're done, you can test your\n",
    "implementation in the test block below."
   ]
  },
  {
   "cell_type": "code",
   "execution_count": null,
   "metadata": {
    "collapsed": true
   },
   "outputs": [],
   "source": [
    "def dstar_lite(problem):\n",
    "    \"\"\"Performs D* Lite to find incrementally find a shortest path as the robot\n",
    "    moves through the graph.  Updates the IncrementalSearchProblem, problem, by\n",
    "    calling problem.update_world.  The search terminates when the robot either\n",
    "    reaches the goal, or finds that there is no path to the goal.  Returns the\n",
    "    modified problem.\n",
    "\n",
    "    Note: The world is dynamic, so the true positions of obstacles may change as\n",
    "    the robot moves through the world.  However, if the robot determines at any\n",
    "    point that there is no finite path to the goal, it should stop searching and\n",
    "    give up, rather than waiting and hoping that the world will improve.\n",
    "    \"\"\"\n",
    "\n",
    "    ############################################################################\n",
    "    # INITIALIZE\n",
    "\n",
    "    # Get the start node, goal node, and graph from the IncrementalSearchProblem\n",
    "    start = problem.start_node\n",
    "    goal = problem.goal_node\n",
    "    graph = problem.get_graph()\n",
    "\n",
    "    # Set g=inf and rhs=inf for all nodes, except the goal node, which has rhs=0\n",
    "    g = {node:inf for node in graph.get_all_nodes()}\n",
    "    rhs = {node:inf for node in graph.get_all_nodes()}\n",
    "    rhs[goal] = 0\n",
    "\n",
    "    # Set the key modifier k_m to 0\n",
    "    key_modifier = 0\n",
    "\n",
    "    # Define shortened helper functions\n",
    "    def calc_key(node):\n",
    "        return calc_key_helper(node, g, rhs, start, key_modifier)\n",
    "    queue = None # to be reinitialized later\n",
    "    def update_vertex(node):\n",
    "        return update_vertex_helper(node, g, rhs, goal, graph, queue)\n",
    "    def compute_shortest_path():\n",
    "        return compute_shortest_path_helper(g, rhs, start, goal, key_modifier, graph, queue)\n",
    "\n",
    "    # Initialize the queue using the priority function calc_key\n",
    "    queue = PriorityQueue(f=lambda node: calc_key(node))\n",
    "    queue.insert(goal)\n",
    "\n",
    "    ############################################################################\n",
    "    # YOUR CODE HERE\n",
    "    raise NotImplementedError\n",
    "\n",
    "    return problem"
   ]
  },
  {
   "cell_type": "code",
   "execution_count": null,
   "metadata": {
    "collapsed": false
   },
   "outputs": [],
   "source": [
    "\"Test dstar_lite:\"\n",
    "test_dstar_lite(dstar_lite)"
   ]
  }
 ],
 "metadata": {
  "kernelspec": {
   "display_name": "Python 2",
   "language": "python",
   "name": "python2"
  },
  "language_info": {
   "codemirror_mode": {
    "name": "ipython",
    "version": 2
   },
   "file_extension": ".py",
   "mimetype": "text/x-python",
   "name": "python",
   "nbconvert_exporter": "python",
   "pygments_lexer": "ipython2",
   "version": "2.7.6"
  }
 },
 "nbformat": 4,
 "nbformat_minor": 0
}
